{
 "cells": [
  {
   "cell_type": "code",
   "execution_count": 1,
   "metadata": {},
   "outputs": [],
   "source": [
    "def plot():\n",
    "    test = {1092268: [81, 90], 524292: [80, 80], 892456: [88, 88]}\n",
    "\n",
    "\n",
    "    data = {\"x\":[], \"y\":[], \"label\":[]}\n",
    "    for label, coord in test.items():\n",
    "        data[\"x\"].append(coord[0])\n",
    "        data[\"y\"].append(coord[1])\n",
    "        data[\"label\"].append(label)\n",
    "\n",
    "    # display scatter plot data\n",
    "    plt.figure(figsize=(10,8))\n",
    "    plt.title('Scatter Plot', fontsize=20)\n",
    "    plt.xlabel('x', fontsize=15)\n",
    "    plt.ylabel('y', fontsize=15)\n",
    "    plt.scatter(data[\"x\"], data[\"y\"], marker = 'o')\n",
    "    \n",
    "    # add labels\n",
    "    for label, x, y in zip(data[\"label\"], data[\"x\"], data[\"y\"]):\n",
    "        plt.annotate(label, xy = (x, y))\n"
   ]
  },
  {
   "cell_type": "code",
   "execution_count": null,
   "metadata": {},
   "outputs": [],
   "source": []
  },
  {
   "cell_type": "code",
   "execution_count": null,
   "metadata": {},
   "outputs": [],
   "source": []
  }
 ],
 "metadata": {
  "kernelspec": {
   "display_name": "Python 3",
   "language": "python",
   "name": "python3"
  },
  "language_info": {
   "codemirror_mode": {
    "name": "ipython",
    "version": 3
   },
   "file_extension": ".py",
   "mimetype": "text/x-python",
   "name": "python",
   "nbconvert_exporter": "python",
   "pygments_lexer": "ipython3",
   "version": "3.6.5"
  }
 },
 "nbformat": 4,
 "nbformat_minor": 2
}
